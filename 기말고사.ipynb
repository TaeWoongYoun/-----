{
  "nbformat": 4,
  "nbformat_minor": 0,
  "metadata": {
    "colab": {
      "provenance": [],
      "authorship_tag": "ABX9TyOgF91XUPv9vOyajn2Arrrf",
      "include_colab_link": true
    },
    "kernelspec": {
      "name": "python3",
      "display_name": "Python 3"
    },
    "language_info": {
      "name": "python"
    }
  },
  "cells": [
    {
      "cell_type": "markdown",
      "metadata": {
        "id": "view-in-github",
        "colab_type": "text"
      },
      "source": [
        "<a href=\"https://colab.research.google.com/github/TaeWoongYoun/dataAnalysis/blob/main/%EA%B8%B0%EB%A7%90%EA%B3%A0%EC%82%AC.ipynb\" target=\"_parent\"><img src=\"https://colab.research.google.com/assets/colab-badge.svg\" alt=\"Open In Colab\"/></a>"
      ]
    },
    {
      "cell_type": "code",
      "execution_count": null,
      "metadata": {
        "colab": {
          "base_uri": "https://localhost:8080/"
        },
        "id": "nmENZ_WfmE7T",
        "outputId": "a0393bca-0e2b-4641-806c-c72ea2e12188"
      },
      "outputs": [
        {
          "output_type": "stream",
          "name": "stdout",
          "text": [
            "    age  gender building_type  floor time_of_day  survived\n",
            "0   2.0    male         brick     10       night         0\n",
            "1  11.0    male      concrete     18       night         0\n",
            "2  22.0    male      concrete     19       night         0\n",
            "3  87.0    male         brick      6         day         0\n",
            "4  58.0  female      concrete     17         day         0\n",
            "5  23.0  female         brick      7       night         0\n",
            "6  51.0    male         brick      1       night         0\n",
            "7  10.0    male      concrete      8         day         1\n",
            "8  82.0    male          wood     19         day         0\n",
            "9  74.0  female          wood     12       night         0\n"
          ]
        }
      ],
      "source": [
        "import pandas as pd\n",
        "\n",
        "df = pd.read_csv(\"earthquake_survival_100_missing-1.csv\")\n",
        "print(df.head(10))"
      ]
    },
    {
      "cell_type": "code",
      "source": [
        "rep_cond = {'survived':{0: 'F', 1 : 'T'}}\n",
        "df2 = df.replace(rep_cond)\n",
        "df2.to_csv('/content/eathquake_change.csv', header=True, index=False, encoding='utf-8')\n",
        "df = pd.read_csv('/content/eathquake_change.csv')\n",
        "print(df.head(5))"
      ],
      "metadata": {
        "colab": {
          "base_uri": "https://localhost:8080/"
        },
        "id": "Z3eCTCygo-IG",
        "outputId": "a3b579a5-de4e-4c6d-fc2a-8d2b3d144a83"
      },
      "execution_count": null,
      "outputs": [
        {
          "output_type": "stream",
          "name": "stdout",
          "text": [
            "    age  gender building_type  floor time_of_day survived\n",
            "0   2.0    male         brick     10       night        F\n",
            "1  11.0    male      concrete     18       night        F\n",
            "2  22.0    male      concrete     19       night        F\n",
            "3  87.0    male         brick      6         day        F\n",
            "4  58.0  female      concrete     17         day        F\n"
          ]
        }
      ]
    },
    {
      "cell_type": "code",
      "source": [
        "import pandas as pd\n",
        "\n",
        "df = pd.read_csv('/content/eathquake_change.csv')\n",
        "df.info()\n",
        "fill_dict = {'age' : df['age'].mean(), 'gender' : df['gender'].fillna(method='ffill'), 'building_type' : df['building_type'].fillna(method='ffill'), }\n",
        "df = df.fillna(value=fill_dict)\n",
        "df.info()\n",
        "df.to_csv('/content/eathquake__cleaned.csv', header=True, index=False, encoding='utf-8')"
      ],
      "metadata": {
        "colab": {
          "base_uri": "https://localhost:8080/"
        },
        "id": "eX-TdWKWsVI2",
        "outputId": "e81a2003-a349-4b69-9d47-8760f9455bb6"
      },
      "execution_count": null,
      "outputs": [
        {
          "output_type": "stream",
          "name": "stdout",
          "text": [
            "<class 'pandas.core.frame.DataFrame'>\n",
            "RangeIndex: 100 entries, 0 to 99\n",
            "Data columns (total 6 columns):\n",
            " #   Column         Non-Null Count  Dtype  \n",
            "---  ------         --------------  -----  \n",
            " 0   age            95 non-null     float64\n",
            " 1   gender         95 non-null     object \n",
            " 2   building_type  95 non-null     object \n",
            " 3   floor          100 non-null    int64  \n",
            " 4   time_of_day    100 non-null    object \n",
            " 5   survived       100 non-null    object \n",
            "dtypes: float64(1), int64(1), object(4)\n",
            "memory usage: 4.8+ KB\n",
            "<class 'pandas.core.frame.DataFrame'>\n",
            "RangeIndex: 100 entries, 0 to 99\n",
            "Data columns (total 6 columns):\n",
            " #   Column         Non-Null Count  Dtype  \n",
            "---  ------         --------------  -----  \n",
            " 0   age            100 non-null    float64\n",
            " 1   gender         100 non-null    object \n",
            " 2   building_type  100 non-null    object \n",
            " 3   floor          100 non-null    int64  \n",
            " 4   time_of_day    100 non-null    object \n",
            " 5   survived       100 non-null    object \n",
            "dtypes: float64(1), int64(1), object(4)\n",
            "memory usage: 4.8+ KB\n"
          ]
        },
        {
          "output_type": "stream",
          "name": "stderr",
          "text": [
            "<ipython-input-42-4273837809>:5: FutureWarning: Series.fillna with 'method' is deprecated and will raise in a future version. Use obj.ffill() or obj.bfill() instead.\n",
            "  fill_dict = {'age' : df['age'].mean(), 'gender' : df['gender'].fillna(method='ffill'), 'building_type' : df['building_type'].fillna(method='ffill'), }\n"
          ]
        }
      ]
    },
    {
      "cell_type": "code",
      "source": [
        "import statsmodels.api as sm\n",
        "import numpy as np\n",
        "from sklearn.preprocessing import LabelBinarizer\n",
        "df = pd.read_csv('/content/eathquake__cleaned.csv')\n",
        "rep_cond = {'survived':{'F': 0, 'T' : 1}}\n",
        "df = df.replace(rep_cond)\n",
        "data = {'survived' : df['survived'], 'age' : df['age'], 'gender' : df['gender'], 'building_type' : df['building_type'], 'floor' : df['floor'], 'time_of_day' : df['time_of_day']}\n",
        "model = sm.Logit.from_formula('survived ~ age + gender + building_type + floor + time_of_day', data=df).fit()\n",
        "print(model.summary())\n",
        "print(\"OR\")\n",
        "print(np.exp(model.params))\n"
      ],
      "metadata": {
        "colab": {
          "base_uri": "https://localhost:8080/"
        },
        "id": "OteFiJ6mxyqn",
        "outputId": "b7cd6642-8993-41e6-dc63-d430f34632b7"
      },
      "execution_count": null,
      "outputs": [
        {
          "output_type": "stream",
          "name": "stdout",
          "text": [
            "Optimization terminated successfully.\n",
            "         Current function value: 0.429192\n",
            "         Iterations 7\n",
            "                           Logit Regression Results                           \n",
            "==============================================================================\n",
            "Dep. Variable:               survived   No. Observations:                  100\n",
            "Model:                          Logit   Df Residuals:                       93\n",
            "Method:                           MLE   Df Model:                            6\n",
            "Date:                Wed, 18 Jun 2025   Pseudo R-squ.:                  0.2641\n",
            "Time:                        06:56:23   Log-Likelihood:                -42.919\n",
            "converged:                       True   LL-Null:                       -58.326\n",
            "Covariance Type:            nonrobust   LLR p-value:                 2.752e-05\n",
            "=============================================================================================\n",
            "                                coef    std err          z      P>|z|      [0.025      0.975]\n",
            "---------------------------------------------------------------------------------------------\n",
            "Intercept                     1.5452      0.904      1.709      0.088      -0.227       3.318\n",
            "gender[T.male]                0.3316      0.550      0.603      0.546      -0.746       1.409\n",
            "building_type[T.concrete]     1.2501      0.632      1.979      0.048       0.012       2.488\n",
            "building_type[T.wood]         0.1178      0.719      0.164      0.870      -1.291       1.527\n",
            "time_of_day[T.night]         -1.5798      0.594     -2.661      0.008      -2.743      -0.416\n",
            "age                          -0.0246      0.012     -2.134      0.033      -0.047      -0.002\n",
            "floor                        -0.1742      0.052     -3.367      0.001      -0.276      -0.073\n",
            "=============================================================================================\n",
            "OR\n",
            "Intercept                    4.688764\n",
            "gender[T.male]               1.393219\n",
            "building_type[T.concrete]    3.490549\n",
            "building_type[T.wood]        1.125035\n",
            "time_of_day[T.night]         0.206007\n",
            "age                          0.975748\n",
            "floor                        0.840166\n",
            "dtype: float64\n"
          ]
        },
        {
          "output_type": "stream",
          "name": "stderr",
          "text": [
            "<ipython-input-49-1697816900>:6: FutureWarning: Downcasting behavior in `replace` is deprecated and will be removed in a future version. To retain the old behavior, explicitly call `result.infer_objects(copy=False)`. To opt-in to the future behavior, set `pd.set_option('future.no_silent_downcasting', True)`\n",
            "  df = df.replace(rep_cond)\n"
          ]
        }
      ]
    }
  ]
}