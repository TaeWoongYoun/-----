{
  "cells": [
    {
      "cell_type": "markdown",
      "metadata": {
        "colab_type": "text",
        "id": "view-in-github"
      },
      "source": [
        "<a href=\"https://colab.research.google.com/github/TaeWoongYoun/-----/blob/main/%EC%83%81%EA%B4%80%EA%B4%80%EA%B3%84%EB%B6%84%EC%84%9D.ipynb\" target=\"_parent\"><img src=\"https://colab.research.google.com/assets/colab-badge.svg\" alt=\"Open In Colab\"/></a>"
      ]
    },
    {
      "cell_type": "code",
      "execution_count": 4,
      "metadata": {
        "id": "3wlGEIihoBkF"
      },
      "outputs": [],
      "source": [
        "import pandas as pd\n",
        "engListening = [30, 60, 90]\n",
        "engScore = [70, 80, 90]\n",
        "data = {'engListening': engListening, 'engScore': engScore}\n",
        "df = pd.DataFrame(data)"
      ]
    },
    {
      "cell_type": "code",
      "execution_count": 9,
      "metadata": {
        "colab": {
          "base_uri": "https://localhost:8080/",
          "height": 430
        },
        "id": "wnoN3jJYpax4",
        "outputId": "94164a4d-b24c-485a-b213-e177eb7f1764"
      },
      "outputs": [
        {
          "data": {
            "image/png": "[encoded data removed]",
            "text/plain": [
              "<Figure size 640x480 with 1 Axes>"
            ]
          },
          "metadata": {},
          "output_type": "display_data"
        }
      ],
      "source": [
        "import matplotlib.pyplot as plt\n",
        "\n",
        "plt.scatter(df['engListening'], df['engScore'])\n",
        "plt.show()"
      ]
    },
    {
      "cell_type": "code",
      "execution_count": 5,
      "metadata": {
        "colab": {
          "base_uri": "https://localhost:8080/"
        },
        "id": "KiT4yGPnqOPE",
        "outputId": "7099ae6c-9810-4a2a-86e6-b92c2faa6d7e"
      },
      "outputs": [
        {
          "name": "stdout",
          "output_type": "stream",
          "text": [
            "              engListening  engScore\n",
            "engListening           1.0       1.0\n",
            "engScore               1.0       1.0\n"
          ]
        }
      ],
      "source": [
        "coef = df.corr(method='pearson')\n",
        "print(coef)"
      ]
    },
    {
      "cell_type": "code",
      "execution_count": 6,
      "metadata": {
        "colab": {
          "base_uri": "https://localhost:8080/",
          "height": 430
        },
        "id": "jexxaQAhqmYm",
        "outputId": "841ec980-4401-4dff-d000-98f86d33dcb7"
      },
      "outputs": [
        {
          "data": {
            "image/png": "[encoded data removed]",
            "text/plain": [
              "<Figure size 640x480 with 1 Axes>"
            ]
          },
          "metadata": {},
          "output_type": "display_data"
        }
      ],
      "source": [
        "engListening = [30,60,90,31,32,69,92,99]\n",
        "engScore = [70,80,90,70,71,85,90,92]\n",
        "data2 = {'engListening': engListening, 'engScore': engScore}\n",
        "df2 = pd.DataFrame(data2)\n",
        "\n",
        "plt.scatter(df2['engListening'], df2['engScore'])\n",
        "plt.show()"
      ]
    },
    {
      "cell_type": "code",
      "execution_count": 7,
      "metadata": {
        "colab": {
          "base_uri": "https://localhost:8080/"
        },
        "id": "i503zOoIrC-v",
        "outputId": "df7be094-d856-4678-d64f-3a6482939232"
      },
      "outputs": [
        {
          "name": "stdout",
          "output_type": "stream",
          "text": [
            "              engListening  engScore\n",
            "engListening      1.000000  0.995829\n",
            "engScore          0.995829  1.000000\n"
          ]
        }
      ],
      "source": [
        "coef = df2.corr(method='pearson')\n",
        "print(coef)"
      ]
    },
    {
      "cell_type": "code",
      "execution_count": 12,
      "metadata": {
        "colab": {
          "base_uri": "https://localhost:8080/"
        },
        "id": "guwxl6F_rJzs",
        "outputId": "15bbd2e6-b000-45c7-a589-5d94031e07df"
      },
      "outputs": [
        {
          "name": "stdout",
          "output_type": "stream",
          "text": [
            "              engListening  engScore\n",
            "engListening      1.000000  0.988024\n",
            "engScore          0.988024  1.000000\n",
            "              engListening  engScore\n",
            "engListening      1.000000  0.963624\n",
            "engScore          0.963624  1.000000\n"
          ]
        }
      ],
      "source": [
        "spearmanCoef = df2.corr(method='spearman')\n",
        "print(spearmanCoef)\n",
        "\n",
        "kendallCoef = df2.corr(method='kendall')\n",
        "print(kendallCoef)"
      ]
    },
    {
      "cell_type": "code",
      "execution_count": 13,
      "metadata": {
        "id": "YSm6qhSorV9O"
      },
      "outputs": [],
      "source": [
        "engListening = [30, 60, 90, 31, 32, 69, 92, 99]\n",
        "engReading = [40, 45, 60, 20, 15, 70, 60, 80]\n",
        "engClass = [60, 120, 120, 60, 60, 180, 120, 120]\n",
        "engScore = [70, 80, 90, 70, 71, 85, 90, 92]\n",
        "\n",
        "data3 = {'engListening': engListening, 'engReading': engReading, 'engClass': engClass, 'engScore': engScore}\n",
        "df3 = pd.DataFrame(data3)"
      ]
    },
    {
      "cell_type": "code",
      "execution_count": 14,
      "metadata": {
        "colab": {
          "base_uri": "https://localhost:8080/"
        },
        "id": "KRHir9-briXr",
        "outputId": "64998bba-a9ce-4415-8e94-a2b45c9f18e3"
      },
      "outputs": [
        {
          "name": "stdout",
          "output_type": "stream",
          "text": [
            "              engListening  engReading  engClass  engScore\n",
            "engListening      1.000000    0.877201  0.703028  0.995829\n",
            "engReading        0.877201    1.000000  0.808755  0.894111\n",
            "engClass          0.703028    0.808755  1.000000  0.759453\n",
            "engScore          0.995829    0.894111  0.759453  1.000000\n",
            "              engListening  engReading  engClass  engScore\n",
            "engListening      1.000000    0.826362  0.717256  0.988024\n",
            "engReading        0.826362    1.000000  0.852757  0.848500\n",
            "engClass          0.717256    0.852757  1.000000  0.725950\n",
            "engScore          0.988024    0.848500  0.725950  1.000000\n",
            "              engListening  engReading  engClass  engScore\n",
            "engListening      1.000000    0.618284  0.563621  0.963624\n",
            "engReading        0.618284    1.000000  0.750568  0.679366\n",
            "engClass          0.563621    0.750568  1.000000  0.584898\n",
            "engScore          0.963624    0.679366  0.584898  1.000000\n"
          ]
        }
      ],
      "source": [
        "pearsonCoef = df3.corr(method='pearson')\n",
        "print(pearsonCoef)\n",
        "\n",
        "spearmanCoef = df3.corr(method='spearman')\n",
        "print(spearmanCoef)\n",
        "\n",
        "kendallCoef = df3.corr(method='kendall')\n",
        "print(kendallCoef)"
      ]
    },
    {
      "cell_type": "code",
      "execution_count": 15,
      "metadata": {
        "colab": {
          "base_uri": "https://localhost:8080/",
          "height": 430
        },
        "id": "y_kTuM5prs38",
        "outputId": "7a3ae962-dca9-48c0-e71a-0388f5c3a21e"
      },
      "outputs": [
        {
          "data": {
            "image/png": "[encoded data removed]",
            "text/plain": [
              "<Figure size 640x480 with 1 Axes>"
            ]
          },
          "metadata": {},
          "output_type": "display_data"
        }
      ],
      "source": [
        "import pandas as pd\n",
        "import matplotlib.pyplot as plt\n",
        "\n",
        "realEstate = [83, 83, 83.5, 83.8, 83.9, 83.7, 84.3, 84.6, 85.2, 85.7, 85.7, 85.7, 86.3\n",
        "               , 86.8, 87.4, 87.4, 87.4, 87.4, 87.6, 88.2, 88.8, 89.4, 89.7, 89.9, 90.5\n",
        "               , 91.1, 92, 92.7, 93.3, 93.8, 94.7, 95.4, 96, 96.4, 96.4, 95.8, 95.7\n",
        "               , 95.8, 95.7, 95.7, 95.7, 96, 96.6, 97.2, 98.1, 98.8, 98.9, 98.6, 98.3\n",
        "               , 98.5, 98.7, 98.6, 98.9, 99.4, 100.1, 100.2, 100.3, 100.3, 100, 99.6\n",
        "               , 99.8, 100.1, 100.2, 100.2, 99.9, 99.7, 99.6, 100.8, 102.2, 102.4\n",
        "               , 101.6, 100.8, 100.3, 99.9, 99.2, 99, 98.8, 99.1, 99.6, 99.9, 100.3\n",
        "               , 100.8, 101.7, 102.7, 103.4, 104.7, 105.5, 105.5, 106.3, 108.3, 110.7\n",
        "               , 112, 112.9, 114.4, 117, 119.8, 122.9, 125.1, 126.7, 128.3, 130.5\n",
        "               , 133.4, 136.5, 139.7, 142.3, 143.8, 143, 141.6, 140.7, 140.6, 141.1\n",
        "               , 141.8, 140.5, 139.8, 136.1, 133.4, 130.6, 126.2, 121.1]\n",
        "interestRate = [2.75, 2.75, 2.75, 2.75, 2.5, 2.5, 2.5, 2.5, 2.5, 2.5, 2.5, 2.5, 2.5\n",
        "               , 2.5, 2.5, 2.5, 2.5, 2.5, 2.5, 2.25, 2.25, 2, 2, 2, 2, 2, 1.75, 1.75\n",
        "               , 1.75, 1.5, 1.5, 1.5, 1.5, 1.5, 1.5, 1.5, 1.5, 1.5, 1.5, 1.5, 1.5, 1.25\n",
        "               , 1.25, 1.25, 1.25, 1.25, 1.25, 1.25, 1.25, 1.25, 1.25, 1.25, 1.25, 1.25\n",
        "               , 1.25, 1.25, 1.25, 1.25, 1.5, 1.5, 1.5, 1.5, 1.5, 1.5, 1.5, 1.5, 1.5\n",
        "               , 1.5, 1.5, 1.5, 1.75, 1.75, 1.75, 1.75, 1.75, 1.75, 1.75, 1.75, 1.5\n",
        "               , 1.5, 1.5, 1.25, 1.25, 1.25, 1.25, 1.25, 0.75, 0.75, 0.5, 0.5, 0.5\n",
        "               , 0.5, 0.5, 0.5, 0.5, 0.5, 0.5, 0.5, 0.5, 0.5, 0.5, 0.5, 0.5\n",
        "               , 0.75, 0.75, 0.75, 1, 1, 1.25, 1.25, 1.25, 1.5, 1.75, 1.75, 2.25, 2.5, 2.5\n",
        "               , 3, 3.25]\n",
        "\n",
        "originalData = {'부동산':realEstate, '금리':interestRate}\n",
        "\n",
        "plt.scatter(originalData['부동산'], originalData['금리'])\n",
        "plt.show()"
      ]
    },
    {
      "cell_type": "code",
      "execution_count": 16,
      "metadata": {
        "colab": {
          "base_uri": "https://localhost:8080/"
        },
        "id": "DviSJFJcsIol",
        "outputId": "c525402a-5ddd-45c7-839c-4209415b064e"
      },
      "outputs": [
        {
          "name": "stdout",
          "output_type": "stream",
          "text": [
            "          부동산        금리\n",
            "부동산  1.000000 -0.497677\n",
            "금리  -0.497677  1.000000\n"
          ]
        }
      ],
      "source": [
        "df = pd.DataFrame(originalData)\n",
        "coef = df.corr(method='pearson')\n",
        "print(coef)"
      ]
    },
    {
      "cell_type": "code",
      "execution_count": 17,
      "metadata": {
        "colab": {
          "base_uri": "https://localhost:8080/"
        },
        "id": "jPascmklsTKr",
        "outputId": "3352a57d-4bec-4657-f326-bd9de8015ca9"
      },
      "outputs": [
        {
          "name": "stdout",
          "output_type": "stream",
          "text": [
            "          지수        금리\n",
            "지수  1.000000 -0.854603\n",
            "금리 -0.854603  1.000000\n"
          ]
        }
      ],
      "source": [
        "realEstateIndexList = []\n",
        "interestList = []\n",
        "lastIndex = -1\n",
        "\n",
        "for key, value in originalData.items():\n",
        "    if key == '부동산':\n",
        "        for i in range(0, len(value)):\n",
        "            if value[i] == 143.8:\n",
        "                break\n",
        "            else:\n",
        "                realEstateIndexList.append(value[i])\n",
        "                lastIndex = i\n",
        "    else:\n",
        "        for i in range(0, lastIndex + 1):\n",
        "            interestList.append(value[i])\n",
        "\n",
        "data = {'지수':realEstateIndexList, '금리':interestList}\n",
        "df = pd.DataFrame(data)\n",
        "coef = df.corr(method='pearson')\n",
        "print(coef)"
      ]
    },
    {
      "cell_type": "code",
      "execution_count": 27,
      "metadata": {
        "colab": {
          "base_uri": "https://localhost:8080/"
        },
        "id": "Ctaq8ViCso9t",
        "outputId": "4dac9d33-8a74-4140-b0b6-1eda7ed08021"
      },
      "outputs": [
        {
          "name": "stdout",
          "output_type": "stream",
          "text": [
            "          영어        수학\n",
            "영어  1.000000  0.818182\n",
            "수학  0.818182  1.000000\n"
          ]
        }
      ],
      "source": [
        "import pandas as pd\n",
        "\n",
        "data = {'영어':[4, 2, 1, 3, 10, 8, 9, 7, 6, 5], '수학':[2, 1, 3, 4, 8, 7, 10, 5, 9, 6]}\n",
        "df = pd.DataFrame(data)\n",
        "coef = df.corr(method='spearman')\n",
        "print(coef)"
      ]
    }
  ],
  "metadata": {
    "colab": {
      "authorship_tag": "ABX9TyN9MzJCAiF5pZxd358FFlfY",
      "include_colab_link": true,
      "provenance": []
    },
    "kernelspec": {
      "display_name": "Python 3",
      "name": "python3"
    },
    "language_info": {
      "codemirror_mode": {
        "name": "ipython",
        "version": 3
      },
      "file_extension": ".py",
      "mimetype": "text/x-python",
      "name": "python",
      "nbconvert_exporter": "python",
      "pygments_lexer": "ipython3",
      "version": "3.13.1"
    }
  },
  "nbformat": 4,
  "nbformat_minor": 0
}
