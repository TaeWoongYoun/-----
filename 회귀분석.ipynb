{
  "nbformat": 4,
  "nbformat_minor": 0,
  "metadata": {
    "colab": {
      "provenance": [],
      "authorship_tag": "ABX9TyMwfT4BJWL+Wj5T69/xGRaF",
      "include_colab_link": true
    },
    "kernelspec": {
      "name": "python3",
      "display_name": "Python 3"
    },
    "language_info": {
      "name": "python"
    }
  },
  "cells": [
    {
      "cell_type": "markdown",
      "metadata": {
        "id": "view-in-github",
        "colab_type": "text"
      },
      "source": [
        "<a href=\"https://colab.research.google.com/github/TaeWoongYoun/dataAnalysis/blob/main/%ED%9A%8C%EA%B7%80%EB%B6%84%EC%84%9D.ipynb\" target=\"_parent\"><img src=\"https://colab.research.google.com/assets/colab-badge.svg\" alt=\"Open In Colab\"/></a>"
      ]
    },
    {
      "cell_type": "code",
      "execution_count": 19,
      "metadata": {
        "id": "4InSVYicAv3v"
      },
      "outputs": [],
      "source": [
        "import pandas as pd\n",
        "import matplotlib.pyplot as plt\n",
        "x=[3000,4200,4000,5000,6000,3800,3500,6200,3900,4500]\n",
        "y=[60,75,70,85,90,70,65,95,70,80]"
      ]
    },
    {
      "cell_type": "code",
      "source": [
        "data={'x':x,'y':y}\n",
        "df=pd.DataFrame(data)\n",
        "plt.scatter(df['x'],df['y'])\n",
        "plt.show()"
      ],
      "metadata": {
        "colab": {
          "base_uri": "https://localhost:8080/",
          "height": 430
        },
        "id": "XNnjglwPDmgk",
        "outputId": "20a613d1-4e41-4708-fea5-e68722ef1eed"
      },
      "execution_count": 20,
      "outputs": [
        {
          "output_type": "display_data",
          "data": {
            "text/plain": [
              "<Figure size 640x480 with 1 Axes>"
            ],
            "image/png": "[encoded data removed]"
          },
          "metadata": {}
        }
      ]
    },
    {
      "cell_type": "code",
      "source": [
        "from statsmodels.formula.api import ols\n",
        "from sklearn.linear_model import LinearRegression\n",
        "fit=ols('y~x',data=df).fit()\n",
        "print(fit.summary())"
      ],
      "metadata": {
        "colab": {
          "base_uri": "https://localhost:8080/"
        },
        "id": "k_uwABL7Dsa2",
        "outputId": "3ff94e7c-4565-45a7-ccd7-dcad8697b5e6"
      },
      "execution_count": 21,
      "outputs": [
        {
          "output_type": "stream",
          "name": "stdout",
          "text": [
            "                            OLS Regression Results                            \n",
            "==============================================================================\n",
            "Dep. Variable:                      y   R-squared:                       0.971\n",
            "Model:                            OLS   Adj. R-squared:                  0.968\n",
            "Method:                 Least Squares   F-statistic:                     271.0\n",
            "Date:                Wed, 07 May 2025   Prob (F-statistic):           1.87e-07\n",
            "Time:                        06:47:22   Log-Likelihood:                -20.111\n",
            "No. Observations:                  10   AIC:                             44.22\n",
            "Df Residuals:                       8   BIC:                             44.83\n",
            "Df Model:                           1                                         \n",
            "Covariance Type:            nonrobust                                         \n",
            "==============================================================================\n",
            "                 coef    std err          t      P>|t|      [0.025      0.975]\n",
            "------------------------------------------------------------------------------\n",
            "Intercept     29.0004      2.926      9.913      0.000      22.254      35.747\n",
            "x              0.0107      0.001     16.463      0.000       0.009       0.012\n",
            "==============================================================================\n",
            "Omnibus:                        0.346   Durbin-Watson:                   2.871\n",
            "Prob(Omnibus):                  0.841   Jarque-Bera (JB):                0.447\n",
            "Skew:                           0.286   Prob(JB):                        0.800\n",
            "Kurtosis:                       2.136   Cond. No.                     2.07e+04\n",
            "==============================================================================\n",
            "\n",
            "Notes:\n",
            "[1] Standard Errors assume that the covariance matrix of the errors is correctly specified.\n",
            "[2] The condition number is large, 2.07e+04. This might indicate that there are\n",
            "strong multicollinearity or other numerical problems.\n"
          ]
        },
        {
          "output_type": "stream",
          "name": "stderr",
          "text": [
            "/usr/local/lib/python3.11/dist-packages/scipy/stats/_axis_nan_policy.py:430: UserWarning: `kurtosistest` p-value may be inaccurate with fewer than 20 observations; only n=10 observations were given.\n",
            "  return hypotest_fun_in(*args, **kwds)\n"
          ]
        }
      ]
    },
    {
      "cell_type": "code",
      "source": [
        "import pandas as pd\n",
        "from statsmodels.formula.api import ols\n",
        "from sklearn.linear_model import LinearRegression\n",
        "\n",
        "salary = [3000,4200,4000,5000,6000,3800,3500,6200,3900,4500]\n",
        "breakTime = [120,60,100,100,50,120,90,40,120,120]\n",
        "workingTime=[8,6,10,8,10,10,9,7,8,9]\n",
        "companySatisfaction=[60,75,70,85,90,70,65,95,70,80]"
      ],
      "metadata": {
        "id": "s2cmqJGxEO6_"
      },
      "execution_count": 22,
      "outputs": []
    },
    {
      "cell_type": "code",
      "source": [
        "data ={ 'salary':salary,\n",
        "        'breakTime':breakTime,\n",
        "        'workingTime':workingTime,\n",
        "        'companySatisfaction':companySatisfaction\n",
        "        }\n",
        "df=pd.DataFrame(data)\n",
        "fit=ols('companySatisfaction~salary+breakTime+workingTime',data=df).fit()\n",
        "print(fit.summary())"
      ],
      "metadata": {
        "colab": {
          "base_uri": "https://localhost:8080/"
        },
        "id": "hGTH7izREuhu",
        "outputId": "66ce43ef-9f09-4803-9519-bdbe6872a03d"
      },
      "execution_count": 23,
      "outputs": [
        {
          "output_type": "stream",
          "name": "stdout",
          "text": [
            "                             OLS Regression Results                            \n",
            "===============================================================================\n",
            "Dep. Variable:     companySatisfaction   R-squared:                       0.988\n",
            "Model:                             OLS   Adj. R-squared:                  0.982\n",
            "Method:                  Least Squares   F-statistic:                     164.0\n",
            "Date:                 Wed, 07 May 2025   Prob (F-statistic):           3.81e-06\n",
            "Time:                         06:47:27   Log-Likelihood:                -15.777\n",
            "No. Observations:                   10   AIC:                             39.55\n",
            "Df Residuals:                        6   BIC:                             40.77\n",
            "Df Model:                            3                                         \n",
            "Covariance Type:             nonrobust                                         \n",
            "===============================================================================\n",
            "                  coef    std err          t      P>|t|      [0.025      0.975]\n",
            "-------------------------------------------------------------------------------\n",
            "Intercept      24.9819      5.353      4.667      0.003      11.884      38.080\n",
            "salary          0.0120      0.001     15.895      0.000       0.010       0.014\n",
            "breakTime       0.0668      0.027      2.491      0.047       0.001       0.132\n",
            "workingTime    -0.9718      0.412     -2.356      0.057      -1.981       0.037\n",
            "==============================================================================\n",
            "Omnibus:                        0.929   Durbin-Watson:                   2.500\n",
            "Prob(Omnibus):                  0.628   Jarque-Bera (JB):                0.752\n",
            "Skew:                          -0.441   Prob(JB):                        0.686\n",
            "Kurtosis:                       1.986   Cond. No.                     5.06e+04\n",
            "==============================================================================\n",
            "\n",
            "Notes:\n",
            "[1] Standard Errors assume that the covariance matrix of the errors is correctly specified.\n",
            "[2] The condition number is large, 5.06e+04. This might indicate that there are\n",
            "strong multicollinearity or other numerical problems.\n"
          ]
        },
        {
          "output_type": "stream",
          "name": "stderr",
          "text": [
            "/usr/local/lib/python3.11/dist-packages/scipy/stats/_axis_nan_policy.py:430: UserWarning: `kurtosistest` p-value may be inaccurate with fewer than 20 observations; only n=10 observations were given.\n",
            "  return hypotest_fun_in(*args, **kwds)\n"
          ]
        }
      ]
    },
    {
      "cell_type": "code",
      "source": [
        "import pandas as pd\n",
        "import matplotlib.pyplot as plt\n",
        "import matplotlib\n",
        "matplotlib.rcParams['axes.unicode_minus'] = False\n",
        "from statsmodels.formula.api import ols\n",
        "from sklearn.linear_model import LinearRegression\n",
        "df=pd.read_csv('./toluca_company_dataset.csv')\n",
        "print(df.head())"
      ],
      "metadata": {
        "colab": {
          "base_uri": "https://localhost:8080/"
        },
        "id": "I2fKDMhPE38j",
        "outputId": "37984469-74af-4e21-9e89-28282b5c96c1"
      },
      "execution_count": 24,
      "outputs": [
        {
          "output_type": "stream",
          "name": "stdout",
          "text": [
            "   Lot_size  Work_hours\n",
            "0        80         399\n",
            "1        30         121\n",
            "2        50         221\n",
            "3        90         376\n",
            "4        70         361\n"
          ]
        }
      ]
    },
    {
      "cell_type": "code",
      "source": [
        "fig = plt.figure(figsize=(8,8))\n",
        "fig.set_facecolor('white')\n",
        "font_size= 15\n",
        "plt.scatter(df['Lot_size'],df['Work_hours'])\n",
        "plt.xlabel('Lot size',fontsize=font_size)\n",
        "plt.ylabel('Work hours',fontsize=font_size)\n",
        "plt.show()"
      ],
      "metadata": {
        "colab": {
          "base_uri": "https://localhost:8080/",
          "height": 702
        },
        "id": "7YC8_uhSFTsI",
        "outputId": "f6b40f0a-8ae9-46b6-8101-879c7b3a5bf5"
      },
      "execution_count": 25,
      "outputs": [
        {
          "output_type": "display_data",
          "data": {
            "text/plain": [
              "<Figure size 800x800 with 1 Axes>"
            ],
            "image/png": "[encoded data removed]"
          },
          "metadata": {}
        }
      ]
    },
    {
      "cell_type": "code",
      "source": [
        "fit = ols('Work_hours ~ Lot_size',data=df).fit()\n",
        "print(fit.summary())"
      ],
      "metadata": {
        "colab": {
          "base_uri": "https://localhost:8080/"
        },
        "id": "ijGkVS7SFuht",
        "outputId": "aa49dc56-1ac4-484d-b63b-83621a04bfeb"
      },
      "execution_count": 26,
      "outputs": [
        {
          "output_type": "stream",
          "name": "stdout",
          "text": [
            "                            OLS Regression Results                            \n",
            "==============================================================================\n",
            "Dep. Variable:             Work_hours   R-squared:                       0.822\n",
            "Model:                            OLS   Adj. R-squared:                  0.814\n",
            "Method:                 Least Squares   F-statistic:                     105.9\n",
            "Date:                Wed, 07 May 2025   Prob (F-statistic):           4.45e-10\n",
            "Time:                        06:47:35   Log-Likelihood:                -131.64\n",
            "No. Observations:                  25   AIC:                             267.3\n",
            "Df Residuals:                      23   BIC:                             269.7\n",
            "Df Model:                           1                                         \n",
            "Covariance Type:            nonrobust                                         \n",
            "==============================================================================\n",
            "                 coef    std err          t      P>|t|      [0.025      0.975]\n",
            "------------------------------------------------------------------------------\n",
            "Intercept     62.3659     26.177      2.382      0.026       8.214     116.518\n",
            "Lot_size       3.5702      0.347     10.290      0.000       2.852       4.288\n",
            "==============================================================================\n",
            "Omnibus:                        0.608   Durbin-Watson:                   1.432\n",
            "Prob(Omnibus):                  0.738   Jarque-Bera (JB):                0.684\n",
            "Skew:                           0.298   Prob(JB):                        0.710\n",
            "Kurtosis:                       2.450   Cond. No.                         202.\n",
            "==============================================================================\n",
            "\n",
            "Notes:\n",
            "[1] Standard Errors assume that the covariance matrix of the errors is correctly specified.\n"
          ]
        }
      ]
    },
    {
      "cell_type": "code",
      "source": [
        "fit.resid\n",
        "fig = plt.figure(figsize=(8,8))\n",
        "fig.set_facecolor('white')\n",
        "font_size= 15\n",
        "plt.scatter(df['Lot_size'],df['Work_hours'])\n",
        "plt.plot(df['Lot_size'],fit.fittedvalues,color='red')\n",
        "plt.xlabel('Lot size',fontsize=font_size)\n",
        "plt.ylabel('Work hours',fontsize=font_size)\n",
        "plt.show()"
      ],
      "metadata": {
        "colab": {
          "base_uri": "https://localhost:8080/",
          "height": 702
        },
        "id": "LPKwlZgdF8sj",
        "outputId": "52a1521a-dc64-4e4a-8e22-053de6bc94bd"
      },
      "execution_count": 27,
      "outputs": [
        {
          "output_type": "display_data",
          "data": {
            "text/plain": [
              "<Figure size 800x800 with 1 Axes>"
            ],
            "image/png": "[encoded data removed]"
          },
          "metadata": {}
        }
      ]
    },
    {
      "cell_type": "code",
      "source": [
        "import statsmodels.api as sm\n",
        "import pandas as pd\n",
        "import numpy as np\n",
        "sales = [1, 1, 1, 1, 1, 1, 1, 1, 1, 0, 0, 0, 0, 0, 0, 0, 0]\n",
        "price = [1500, 2000, 5000, 3000, 3500, 2500, 4000, 4500, 3000,\n",
        "4500, 4000, 4500, 5500, 6500, 5000, 3500, 7000]\n",
        "data = {'sales': sales, 'price': price}\n",
        "df = pd.DataFrame(data)\n",
        "logis = sm.Logit.from_formula('sales ~ price', data=df).fit()\n",
        "print(logis.summary())\n",
        "print('OR')\n",
        "print(np.exp(logis.params))"
      ],
      "metadata": {
        "colab": {
          "base_uri": "https://localhost:8080/"
        },
        "id": "sIWDAlbtGFp7",
        "outputId": "6af73587-1597-42ba-8484-e8e7b611d020"
      },
      "execution_count": 28,
      "outputs": [
        {
          "output_type": "stream",
          "name": "stdout",
          "text": [
            "Optimization terminated successfully.\n",
            "         Current function value: 0.430873\n",
            "         Iterations 7\n",
            "                           Logit Regression Results                           \n",
            "==============================================================================\n",
            "Dep. Variable:                  sales   No. Observations:                   17\n",
            "Model:                          Logit   Df Residuals:                       15\n",
            "Method:                           MLE   Df Model:                            1\n",
            "Date:                Wed, 07 May 2025   Pseudo R-squ.:                  0.3768\n",
            "Time:                        06:47:40   Log-Likelihood:                -7.3248\n",
            "converged:                       True   LL-Null:                       -11.754\n",
            "Covariance Type:            nonrobust   LLR p-value:                  0.002917\n",
            "==============================================================================\n",
            "                 coef    std err          z      P>|z|      [0.025      0.975]\n",
            "------------------------------------------------------------------------------\n",
            "Intercept      6.5752      3.300      1.993      0.046       0.108      13.042\n",
            "price         -0.0016      0.001     -2.008      0.045      -0.003   -3.75e-05\n",
            "==============================================================================\n",
            "OR\n",
            "Intercept    717.058841\n",
            "price          0.998433\n",
            "dtype: float64\n"
          ]
        }
      ]
    },
    {
      "cell_type": "code",
      "source": [
        "titanic = pd.read_csv('seaborn/titanic.csv')\n",
        "print(titanic)"
      ],
      "metadata": {
        "colab": {
          "base_uri": "https://localhost:8080/"
        },
        "id": "j_3yMvzZGYGz",
        "outputId": "0f7a6846-bca6-465e-8fb6-a899612e34f9"
      },
      "execution_count": 37,
      "outputs": [
        {
          "output_type": "stream",
          "name": "stdout",
          "text": [
            "     PassengerId  Survived  Pclass  \\\n",
            "0              1         0       3   \n",
            "1              2         1       1   \n",
            "2              3         1       3   \n",
            "3              4         1       1   \n",
            "4              5         0       3   \n",
            "..           ...       ...     ...   \n",
            "886          887         0       2   \n",
            "887          888         1       1   \n",
            "888          889         0       3   \n",
            "889          890         1       1   \n",
            "890          891         0       3   \n",
            "\n",
            "                                                  Name     Sex   Age  SibSp  \\\n",
            "0                              Braund, Mr. Owen Harris    male  22.0      1   \n",
            "1    Cumings, Mrs. John Bradley (Florence Briggs Th...  female  38.0      1   \n",
            "2                               Heikkinen, Miss. Laina  female  26.0      0   \n",
            "3         Futrelle, Mrs. Jacques Heath (Lily May Peel)  female  35.0      1   \n",
            "4                             Allen, Mr. William Henry    male  35.0      0   \n",
            "..                                                 ...     ...   ...    ...   \n",
            "886                              Montvila, Rev. Juozas    male  27.0      0   \n",
            "887                       Graham, Miss. Margaret Edith  female  19.0      0   \n",
            "888           Johnston, Miss. Catherine Helen \"Carrie\"  female   NaN      1   \n",
            "889                              Behr, Mr. Karl Howell    male  26.0      0   \n",
            "890                                Dooley, Mr. Patrick    male  32.0      0   \n",
            "\n",
            "     Parch            Ticket     Fare Cabin Embarked  \n",
            "0        0         A/5 21171   7.2500   NaN        S  \n",
            "1        0          PC 17599  71.2833   C85        C  \n",
            "2        0  STON/O2. 3101282   7.9250   NaN        S  \n",
            "3        0            113803  53.1000  C123        S  \n",
            "4        0            373450   8.0500   NaN        S  \n",
            "..     ...               ...      ...   ...      ...  \n",
            "886      0            211536  13.0000   NaN        S  \n",
            "887      0            112053  30.0000   B42        S  \n",
            "888      2        W./C. 6607  23.4500   NaN        S  \n",
            "889      0            111369  30.0000  C148        C  \n",
            "890      0            370376   7.7500   NaN        Q  \n",
            "\n",
            "[891 rows x 12 columns]\n"
          ]
        }
      ]
    },
    {
      "cell_type": "code",
      "source": [
        "import statsmodels.formula.api as smf\n",
        "import numpy as np\n",
        "from sklearn.preprocessing import LabelEncoder\n",
        "encoder = LabelEncoder()\n",
        "encoder.fit(titanic['Sex'])\n",
        "sex = encoder.transform(titanic['Sex'])\n",
        "titanic['Sex'] = sex\n",
        "model = smf.logit('Survived ~ Pclass + Sex + Age + Fare + Parch + SibSp', data=titanic)\n",
        "logit = model.fit()\n",
        "print(logit.summary())\n",
        "print(\"OR\")\n",
        "print(np.exp(logit.params))"
      ],
      "metadata": {
        "colab": {
          "base_uri": "https://localhost:8080/"
        },
        "id": "-0SEsCJoGlxR",
        "outputId": "d99697f3-a2c8-40fd-d490-923d7dd58ac9"
      },
      "execution_count": 43,
      "outputs": [
        {
          "output_type": "stream",
          "name": "stdout",
          "text": [
            "Optimization terminated successfully.\n",
            "         Current function value: 0.445244\n",
            "         Iterations 6\n",
            "                           Logit Regression Results                           \n",
            "==============================================================================\n",
            "Dep. Variable:               Survived   No. Observations:                  714\n",
            "Model:                          Logit   Df Residuals:                      707\n",
            "Method:                           MLE   Df Model:                            6\n",
            "Date:                Wed, 07 May 2025   Pseudo R-squ.:                  0.3408\n",
            "Time:                        07:22:43   Log-Likelihood:                -317.90\n",
            "converged:                       True   LL-Null:                       -482.26\n",
            "Covariance Type:            nonrobust   LLR p-value:                 5.727e-68\n",
            "==============================================================================\n",
            "                 coef    std err          z      P>|z|      [0.025      0.975]\n",
            "------------------------------------------------------------------------------\n",
            "Intercept      5.3890      0.604      8.926      0.000       4.206       6.572\n",
            "Pclass        -1.2422      0.163     -7.612      0.000      -1.562      -0.922\n",
            "Sex           -2.6348      0.220    -11.998      0.000      -3.065      -2.204\n",
            "Age           -0.0440      0.008     -5.374      0.000      -0.060      -0.028\n",
            "Fare           0.0022      0.002      0.866      0.386      -0.003       0.007\n",
            "Parch         -0.0619      0.123     -0.504      0.614      -0.303       0.179\n",
            "SibSp         -0.3758      0.127     -2.950      0.003      -0.625      -0.126\n",
            "==============================================================================\n",
            "OR\n",
            "Intercept    218.984972\n",
            "Pclass         0.288734\n",
            "Sex            0.071730\n",
            "Age            0.956999\n",
            "Fare           1.002162\n",
            "Parch          0.939942\n",
            "SibSp          0.686771\n",
            "dtype: float64\n"
          ]
        }
      ]
    }
  ]
}